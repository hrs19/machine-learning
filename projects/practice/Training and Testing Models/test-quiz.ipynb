{
 "cells": [
  {
   "cell_type": "code",
   "execution_count": 5,
   "metadata": {},
   "outputs": [],
   "source": [
    "# Reading the csv file\n",
    "import pandas as pd\n",
    "data = pd.read_csv(\"data3.csv\")"
   ]
  },
  {
   "cell_type": "code",
   "execution_count": 6,
   "metadata": {},
   "outputs": [],
   "source": [
    "# Splitting the data into X and y\n",
    "import numpy as np\n",
    "X = np.array(data[['x1', 'x2']])\n",
    "y = np.array(data['y'])"
   ]
  },
  {
   "cell_type": "code",
   "execution_count": 8,
   "metadata": {},
   "outputs": [],
   "source": [
    "# Import statement for train_test_split\n",
    "from sklearn.model_selection import train_test_split\n",
    "\n",
    "# TODO: Use the train_test_split function to split the data into\n",
    "# training and testing sets.\n",
    "# The size of the testing set should be 20% of the total size of the data.\n",
    "# Your output should contain 4 objects.\n",
    "X_train, X_test, y_train, y_test = train_test_split(X, y, test_size = 0.2) "
   ]
  },
  {
   "cell_type": "code",
   "execution_count": 9,
   "metadata": {},
   "outputs": [
    {
     "name": "stdout",
     "output_type": "stream",
     "text": [
      "X_train:  160\n",
      "y_train:  80\n",
      "X_test:  40\n",
      "y_test:  20\n"
     ]
    }
   ],
   "source": [
    "print(\"X_train: \",X_train.size)\n",
    "print(\"y_train: \",y_train.size)\n",
    "print(\"X_test: \",X_test.size)\n",
    "print(\"y_test: \",y_test.size)"
   ]
  },
  {
   "cell_type": "code",
   "execution_count": null,
   "metadata": {},
   "outputs": [],
   "source": []
  }
 ],
 "metadata": {
  "kernelspec": {
   "display_name": "Python 3",
   "language": "python",
   "name": "python3"
  },
  "language_info": {
   "codemirror_mode": {
    "name": "ipython",
    "version": 3
   },
   "file_extension": ".py",
   "mimetype": "text/x-python",
   "name": "python",
   "nbconvert_exporter": "python",
   "pygments_lexer": "ipython3",
   "version": "3.7.3"
  }
 },
 "nbformat": 4,
 "nbformat_minor": 4
}
